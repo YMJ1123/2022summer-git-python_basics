{
 "cells": [
  {
   "cell_type": "code",
   "execution_count": 2,
   "id": "73b5b689",
   "metadata": {},
   "outputs": [
    {
     "name": "stdout",
     "output_type": "stream",
     "text": [
      "There are 539 sentences in HW1.txt. 169 of them include !?+-.\n",
      "length before trim after trim\n",
      "  <=40          33         43\n",
      "  <=50         173        203\n",
      "  <=60         154        141\n",
      "  <=70         114        112\n",
      "  <=80          55         39\n",
      "   >80          10          1\n"
     ]
    }
   ],
   "source": [
    "f = open('HW1.txt')\n",
    "\n",
    "SENTENCE=[]\n",
    "TrimmedSENTENCE=[]\n",
    "characters=\"!?+-\"\n",
    "r=0\n",
    "r1=0\n",
    "L_40=0;L_50=0;L_60=0;L_70=0;L_80=0;L_80UP=0\n",
    "TL_40=0;TL_50=0;TL_60=0;TL_70=0;TL_80=0;TL_80UP=0\n",
    "for line in f.readlines():    \n",
    "    SENTENCE.append(line.replace('\\n',''))\n",
    "    #print('Original Line:',SENTENCE[r])\n",
    "\n",
    "    for x in range (len(characters)):\n",
    "        line=line.replace(characters[x],'')\n",
    "\n",
    "    TrimmedSENTENCE.append(line.replace('\\n',''))\n",
    "    #print('Trimmed Line:',TrimmedSENTENCE[r],'\\n')\n",
    "    r+=1 \n",
    "    #print('ROW:',r,'\\n')\n",
    "f.close\n",
    "\n",
    "for i in range(r):\n",
    "    sign = False\n",
    "    L = len(SENTENCE[i])\n",
    "    TL = len(TrimmedSENTENCE[i])\n",
    "    if(L<=40): L_40+=1\n",
    "    elif(L<=50): L_50+=1\n",
    "    elif(L<=60): L_60+=1\n",
    "    elif(L<=70): L_70+=1\n",
    "    elif(L<=80): L_80+=1\n",
    "    else: L_80UP+=1\n",
    "\n",
    "    if(TL<=40): TL_40+=1\n",
    "    elif(TL<=50): TL_50+=1\n",
    "    elif(TL<=60): TL_60+=1\n",
    "    elif(TL<=70): TL_70+=1\n",
    "    elif(TL<=80): TL_80+=1\n",
    "    else: TL_80UP+=1\n",
    "\n",
    "    for j in range(L):\n",
    "        if (SENTENCE[i][j]=='!'or SENTENCE[i][j]=='?' or SENTENCE[i][j]=='-' or SENTENCE[i][j]=='+'):\n",
    "            sign = True\n",
    "    if(sign == True):\n",
    "        r1 += 1\n",
    "\n",
    "print('There are',r,'sentences in HW1.txt.',r1,'of them include !?+-.')\n",
    "print('length before trim after trim')\n",
    "print('{0:>6}'.format('<=40'),'{0:>11}'.format(L_40),'{0:>10}'.format(TL_40))\n",
    "print('{0:>6}'.format('<=50'),'{0:>11}'.format(L_50),'{0:>10}'.format(TL_50))\n",
    "print('{0:>6}'.format('<=60'),'{0:>11}'.format(L_60),'{0:>10}'.format(TL_60))\n",
    "print('{0:>6}'.format('<=70'),'{0:>11}'.format(L_70),'{0:>10}'.format(TL_70))\n",
    "print('{0:>6}'.format('<=80'),'{0:>11}'.format(L_80),'{0:>10}'.format(TL_80))\n",
    "print('{0:>6}'.format('>80'),'{0:>11}'.format(L_80UP),'{0:>10}'.format(TL_80UP))\n",
    "\"\"\"\n",
    "c=0\n",
    "for y in range (r):\n",
    "    if(len(SENTENCE[y])<=40):\n",
    "        c=c+1\n",
    "        print(c,len(SENTENCE[y]),SENTENCE[y])\n",
    "\"\"\"\n",
    "path='HW1_B09611009.txt'\n",
    "Output=open(path,'w')\n",
    "print('There are',r,'sentences in HW1.txt.',r1,'of them include !?+-.', file=Output)\n",
    "print('length before trim after trim', file=Output)\n",
    "print('{0:>6}'.format('<=40'),'{0:>11}'.format(L_40),'{0:>10}'.format(TL_40), file=Output)\n",
    "print('{0:>6}'.format('<=50'),'{0:>11}'.format(L_50),'{0:>10}'.format(TL_50), file=Output)\n",
    "print('{0:>6}'.format('<=60'),'{0:>11}'.format(L_60),'{0:>10}'.format(TL_60), file=Output)\n",
    "print('{0:>6}'.format('<=70'),'{0:>11}'.format(L_70),'{0:>10}'.format(TL_70), file=Output)\n",
    "print('{0:>6}'.format('<=80'),'{0:>11}'.format(L_80),'{0:>10}'.format(TL_80), file=Output)\n",
    "print('{0:>6}'.format('>80'),'{0:>11}'.format(L_80UP),'{0:>10}'.format(TL_80UP), file=Output)\n",
    "Output.close()\n"
   ]
  },
  {
   "cell_type": "code",
   "execution_count": null,
   "id": "f0dd14ae",
   "metadata": {},
   "outputs": [],
   "source": []
  }
 ],
 "metadata": {
  "kernelspec": {
   "display_name": "Python 3.9.12 ('base': conda)",
   "language": "python",
   "name": "python3"
  },
  "language_info": {
   "codemirror_mode": {
    "name": "ipython",
    "version": 3
   },
   "file_extension": ".py",
   "mimetype": "text/x-python",
   "name": "python",
   "nbconvert_exporter": "python",
   "pygments_lexer": "ipython3",
   "version": "3.9.12"
  },
  "vscode": {
   "interpreter": {
    "hash": "efcffb01e978a7da06f1614750a050138d7903da68957ca474fc0f278d030af8"
   }
  }
 },
 "nbformat": 4,
 "nbformat_minor": 5
}
